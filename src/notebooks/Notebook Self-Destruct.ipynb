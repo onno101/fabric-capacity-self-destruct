{
 "cells": [
  {
   "cell_type": "markdown",
   "id": "e43e47f6-15b7-45a6-bc9c-225c80e38840",
   "metadata": {
    "microsoft": {
     "language": "python",
     "language_group": "synapse_pyspark"
    },
    "nteract": {
     "transient": {
      "deleting": false
     }
    }
   },
   "source": [
    "## Install needed dependencies\n",
    "`azure-mgmt-fabric` is not installed when starting a session\n"
   ]
  },
  {
   "cell_type": "code",
   "execution_count": null,
   "id": "23fe3101-2a86-4f89-880b-788ac022ff12",
   "metadata": {
    "jupyter": {
     "outputs_hidden": true,
     "source_hidden": false
    },
    "microsoft": {
     "language": "python",
     "language_group": "synapse_pyspark"
    },
    "nteract": {
     "transient": {
      "deleting": false
     }
    }
   },
   "outputs": [],
   "source": [
    "pip install azure-mgmt-fabric"
   ]
  },
  {
   "cell_type": "markdown",
   "id": "8a9fd86a-8b52-47d5-b51f-6c4b41be7b66",
   "metadata": {
    "microsoft": {
     "language": "python",
     "language_group": "synapse_pyspark"
    },
    "nteract": {
     "transient": {
      "deleting": false
     }
    }
   },
   "source": [
    "## Setting authentication\n",
    "Getting client secret credentials from Azure Key Vault and creation the credential variable"
   ]
  },
  {
   "cell_type": "code",
   "execution_count": null,
   "id": "95c9049a-7c71-4a80-8e38-5965c0bfc9aa",
   "metadata": {
    "jupyter": {
     "outputs_hidden": false,
     "source_hidden": false
    },
    "microsoft": {
     "language": "python",
     "language_group": "synapse_pyspark"
    },
    "nteract": {
     "transient": {
      "deleting": false
     }
    }
   },
   "outputs": [],
   "source": [
    "import os\n",
    "from azure.identity import ClientSecretCredential\n",
    "\n",
    "akv_url = 'url-to-your-azure-keyvault' # add your keyvault url here \n",
    "\n",
    "credential = ClientSecretCredential(\n",
    "    tenant_id=mssparkutils.credentials.getSecret(akv_url,'tenant-id-secret-name'), # add your tenant id secret name here (same name as secret in Azure Key Vault)\n",
    "    client_id=mssparkutils.credentials.getSecret(akv_url,'client-id-secret-name'), # add your client id secret name here (same name as secret in Azure Key Vault)\n",
    "    client_secret=mssparkutils.credentials.getSecret(akv_url,'client-secret-secret-name'), # add your client secret secret name here (same name as secret in Azure Key Vault)\n",
    ")\n"
   ]
  },
  {
   "cell_type": "markdown",
   "id": "36a31646-3464-4716-9d21-431642e755c1",
   "metadata": {
    "microsoft": {
     "language": "python",
     "language_group": "synapse_pyspark"
    },
    "nteract": {
     "transient": {
      "deleting": false
     }
    }
   },
   "source": [
    "## Pausing the Fabric capacity\n",
    "Using the client credentials to authenticate and pause the capacity. You will see that the notebook will fail as the capacity is paused before the chunk has finished running"
   ]
  },
  {
   "cell_type": "code",
   "execution_count": null,
   "id": "2c6763ca-5cc2-44ca-ba75-2331f6b96304",
   "metadata": {
    "jupyter": {
     "outputs_hidden": false
    },
    "microsoft": {
     "language": "python",
     "language_group": "synapse_pyspark"
    }
   },
   "outputs": [],
   "source": [
    "from azure.mgmt.fabric import FabricMgmtClient\n",
    "sub_id = \"your-subscription-id\" # add your subscription id here\n",
    "rg_name = \"your-resource-group-name\" # add your resource group name here\n",
    "cap_name = \"your-capacity-name\" # add your capacity name here\n",
    "\n",
    "def main():\n",
    "    client = FabricMgmtClient(\n",
    "        credential=credential,\n",
    "        subscription_id=sub_id,\n",
    "    )\n",
    "    print(\"Suspending the capacity, *bye bye*\")\n",
    "\n",
    "    client.fabric_capacities.begin_suspend(\n",
    "        resource_group_name=rg_name,\n",
    "        capacity_name=cap_name,\n",
    "    ).result()\n",
    "\n",
    "\n",
    "if __name__ == \"__main__\":\n",
    "    main()"
   ]
  }
 ],
 "metadata": {
  "dependencies": {},
  "kernel_info": {
   "name": "synapse_pyspark"
  },
  "kernelspec": {
   "display_name": "Synapse PySpark",
   "language": "Python",
   "name": "synapse_pyspark"
  },
  "language_info": {
   "name": "python"
  },
  "microsoft": {
   "language": "python",
   "language_group": "synapse_pyspark",
   "ms_spell_check": {
    "ms_spell_check_language": "en"
   }
  },
  "nteract": {
   "version": "nteract-front-end@1.0.0"
  },
  "spark_compute": {
   "compute_id": "/trident/default",
   "session_options": {
    "conf": {
     "spark.synapse.nbs.session.timeout": "1200000"
    }
   }
  },
  "widgets": {}
 },
 "nbformat": 4,
 "nbformat_minor": 5
}
